{
 "cells": [
  {
   "cell_type": "markdown",
   "metadata": {},
   "source": [
    "<h1><center> B4 - Python for Civil Engineering </center></h1>\n",
    "\n",
    "<center>\n",
    "<img src=\"Resources/python-3-logo.png\" alt=\"Python Logo\" style=\"width: 600px;\"/>\n",
    "</center>\n",
    "\n",
    "### Introduction\n",
    "Hello, thank you for choosing the B4 Workshop.\n",
    "In this 2 week workshop you will be introduced to the python programming language, and I will demonstrate its usefulness to the modern Engineer. \n",
    "By the end of the Workshop you should have an understanding of:\n",
    "- What is `python`;\n",
    "- How to write effective, manageable and readable code;\n",
    "- How to debug code issues and find effective help;\n",
    "- How to import and manipulate data sources;\n",
    "- How to create rich, professional, scientific plots;\n",
    "- Use python to visualise engineering problems.\n",
    "\n",
    "It is too difficult to 'teach' python within the 12 hours available for this workshop, so you will be given the tools to continue your development with this tool in the future.\n",
    "\n",
    "\n",
    "<h2><center> Session 1 - What is Python, how do I use it? </center></h2>\n",
    "\n",
    "### What is Python?\n",
    "\n",
    "Python is a high-level general use programming language.\n",
    "\"High-level\" means the technical heavy-lifting is handled for us behind the scenes.\n",
    "\"General use\" means it can be used for tasks like basic calculations, all the way through to data science, machine learning, or even producing 3D visualisations making it a great choice for Engineering and Science due to its flexibility and ease of use.\n",
    "One big limitation with tools such as Microsoft Excel is that they are not extensible, and it is very challenging to diagnose complicated procedures.\n",
    "Python on the other hand allows us to write programs which can be used to automate very complex tasks. This makes it a great tool for Engineering and Science as you will see in this workshop.\n",
    "\n",
    "In today's session we will look at the functions and syntax required to write very basic python code.\n",
    "Ultimately all code is basic, if broken down into enough small parts. \n",
    "This problem solving approach is useful in all parts of your engineering career!\n",
    "\n",
    "Let's run some python code to get you started.\n",
    "Lots of coding tutorials start with the simple instruction to print some text to the screen, so we will do the same.\n",
    "\n",
    "In the following cell we will print \"Hello World\" to the screen.\n",
    "Click the small play symbol in the top left corner of the cell, or press ⇧ Shift + ↵ Enter to execute the code.\n",
    "\n"
   ]
  },
  {
   "cell_type": "code",
   "execution_count": null,
   "metadata": {},
   "outputs": [],
   "source": [
    "print('Hello world!')"
   ]
  },
  {
   "cell_type": "markdown",
   "metadata": {},
   "source": [
    "Great stuff, how easy is that!\n",
    "\n",
    "You currently find yourself using a **Jupyter Notebook**, which is an interactive environment that allows you to write Python code, visualize results, and add text in one document.\n",
    "\n",
    "<center>\n",
    "<img src=\"Resources/Jupyter_logo.png\" alt=\"Jupyter Logo\" style=\"width: 200px;\"/>\n",
    "</center>\n",
    "\n",
    "Note the distinction there. This is important.\n",
    "\n",
    "<p  style=\"font-size:16pt; font-style:italic\">\n",
    "    You are using a <b>Jupyter Notebook</b> which allows you to run <b>python</b> code. \n",
    "</p>\n",
    "\n",
    "\n",
    "I have made this notebook available on an online server, called JupyterHub, which you accessed using the link from Moodle. \n",
    "In the JupyterHub server you can run Python code, save your progress, and analyse the data I have made available.\n",
    "The main advantage of this is that there is nothing to install, it's all set up on a remote server where you can access it from the Engineering Desktop.\n",
    "That means doing things such as creating plots is really easy to do.\n",
    "Run the next cell to see an example plot generated right before your eyes...\n"
   ]
  },
  {
   "cell_type": "code",
   "execution_count": null,
   "metadata": {},
   "outputs": [],
   "source": [
    "from matplotlib import pyplot as plt\n",
    "from matplotlib.ticker import FormatStrFormatter\n",
    "import numpy as np\n",
    "\n",
    "# Generate some data\n",
    "x = np.linspace(0, 2*np.pi, 100)\n",
    "y = np.sin(x)\n",
    "\n",
    "# Plot the data\n",
    "fig,ax=plt.subplots(dpi=200,figsize=(6,4))\n",
    "ax.plot(x/np.pi, y)\n",
    "ax.set_title('Example Plot')\n",
    "ax.set_xlabel('x')\n",
    "ax.set_ylabel('y')\n",
    "\n",
    "# Change the x axes to display fractions of pi\n",
    "ax.xaxis.set_major_formatter(FormatStrFormatter('%g π'))\n",
    "\n",
    "# Show the plot\n",
    "plt.show()\n",
    "\n"
   ]
  },
  {
   "cell_type": "markdown",
   "metadata": {},
   "source": [
    "## The python command line\n",
    "\n",
    "Other ways of running python code are available, different to this notebook style. You might like to download your own version of python which you can interact with locally on your device.\n",
    "Generally, you would install a code editor like [VSCode](https://code.visualstudio.com/) which can help you write and run python code, similarly to this JupyterLab interface.\n",
    "<center>\n",
    "<img src=\"Resources/CommandLine.gif\" alt=\"Demonstration of using Python in the command line\" style=\"width: 600px;\"/>\n",
    "\n",
    "I am using python here by starting a terminal on my desktop with the following command `python`.\n",
    "This opens what is known as the **python command line**, shown with three chevrons `>>>` on each line.\n",
    "I can type individual python commands and then press enter, and the code will run as shown.\n",
    "In the command line, nothing is saved unless explicitly requested, so if you have a long piece of code, it will need to be typed out again each time you run the command line.\n",
    "</center>\n",
    "\n",
    "\n",
    "\n",
    "You can access the  **python command line** by opening a new Python terminal. Go to \"File -> New... -> Terminal\" in your JupyterLab workspace.\n",
    "Once there, open a python command line by typing `python` and pressing enter.\n",
    "\n",
    "<center>\n",
    "<img src=\"Resources/JHNewTerminal.png\" alt=\"Demonstration of using Python in the command line\" style=\"width: 600px;\"/>\n",
    "</center>\n",
    "\n",
    "Try it out for yourself and type in `print('Hello world!')` into the console and press ↵ Enter to execute the code. You should see the following output in your terminal:\n",
    "\n",
    "*\"Hello world!\"*\n",
    "\n",
    "Come back here when you are done.\n"
   ]
  },
  {
   "cell_type": "markdown",
   "metadata": {},
   "source": [
    "## Basics of Python Programming"
   ]
  },
  {
   "cell_type": "markdown",
   "metadata": {},
   "source": [
    "### Variables and data types\n",
    "\n",
    "**Variables** are used to store values, which do not always have to be numerical. \n",
    "They can be used to store strings (text), numbers, lists of numbers, or other variables.\n",
    "\n",
    "**Data types** are a way of describing what kind of value is stored in a variable.\n",
    "For example, if you store the number 5 in a variable called `x`, then `x` is an integer. \n",
    "If you store the string \"Hello world!\" in a variable called `y`, then `y` is a string.\n",
    "\n",
    "In Python, you can create variables by assigning a value to them using the assignment operator (`=`).\n",
    "You can then print out the value of a variable by using the `print()` function."
   ]
  },
  {
   "cell_type": "code",
   "execution_count": null,
   "metadata": {},
   "outputs": [],
   "source": [
    "age = 67        # integer\n",
    "name = 'Alan Partridge' # string\n",
    "\n",
    "print('Age:', age)\n",
    "print('Name:', name)\n",
    "\n",
    "# Note how you can chain variables together in the print function.\n",
    "print(name, 'is', age)\n",
    "\n",
    "# You can also investigate the type of a variable using the inbuilt `type` function.\n",
    "print('the variable `name` is a {}.'.format(type(name)))"
   ]
  },
  {
   "cell_type": "markdown",
   "metadata": {},
   "source": [
    "#### Lists and Dictionaries\n",
    "\n",
    "You might like to include more than one variable or value grouped together in its own variable. One way to achieve this is to use a list or dictionary. Let's look at some example usage."
   ]
  },
  {
   "cell_type": "code",
   "execution_count": null,
   "metadata": {},
   "outputs": [],
   "source": [
    "# Lists can contain multiple variables or values of different types.\n",
    "# You can define them by wrapping functions in the `list()` command, or by using square brackets.\n",
    "a_list = list(range(10))\n",
    "print(a_list)\n",
    "\n",
    "b_list = [0, 1, 2, 3]\n",
    "print(b_list)\n",
    "\n",
    "# You can also put other variables of different types in lists.\n",
    "info = [age,name]\n",
    "print(info)"
   ]
  },
  {
   "cell_type": "markdown",
   "metadata": {},
   "source": [
    "Dictionaries are similar to lists in that they can contain a number of variables, but crucially, they can be accessed by using a *key*. This could be a string or a number.\n",
    "\n",
    "This is potentially more useful than lists, which can only be accessed by using the index of the value you want to extract.\n"
   ]
  },
  {
   "cell_type": "code",
   "execution_count": null,
   "metadata": {},
   "outputs": [],
   "source": [
    "#create a blank dictionary\n",
    "info = {}\n",
    "\n",
    "#assign some values using various keys\n",
    "info['age'] = 67\n",
    "info['name'] = 'Alan Partridge'\n",
    "\n",
    "#access some values\n",
    "print(info['age'])"
   ]
  },
  {
   "cell_type": "markdown",
   "metadata": {},
   "source": [
    "### In-built operations"
   ]
  },
  {
   "cell_type": "markdown",
   "metadata": {},
   "source": [
    "Basic arithmetic can be handled by python with ease using in-built operations, a full list of which is given in the table below.\n",
    "\n",
    "| Operator     | Name           | Description                                                   |\n",
    "|--------------|----------------|--------------------------------------------------------       |\n",
    "| ``a + b``    | Addition       | Sum of ``a`` and ``b``                                        |\n",
    "| ``a - b``    | Subtraction    | Difference of ``a`` and ``b``                                 |\n",
    "| ``a * b``    | Multiplication | Product of ``a`` and ``b``                                    |\n",
    "| ``a / b``    | True division  | Division of ``a`` by ``b``                                    |\n",
    "| ``a // b``   | Floor division | Division of ``a`` by ``b``, rounding down                     |\n",
    "| ``a % b``    | Modulus        | The remainder of division of ``a`` by ``b`` as an integer     |\n",
    "| ``a ** b``   | Exponentiation | ``a`` raised to the power of ``b``                            |\n",
    "| ``-a``       | Negation       | The negative of ``a``                                         |\n",
    "\n",
    "\n",
    "\n",
    "Below I have defined some variables as floats (decimal numbers) and added them together.\n",
    "\n",
    "In the cell below create two variables called `difference_ab`, and `product_ab`, which subtract the two numbers and multiply them together respectively."
   ]
  },
  {
   "cell_type": "code",
   "execution_count": null,
   "metadata": {},
   "outputs": [],
   "source": [
    "a = 16.5        # float\n",
    "b = 227.25      # float\n",
    "\n",
    "sum_ab = a+b\n",
    "\n",
    "########## PUT YOUR CODE HERE ##########\n",
    "# TIP: it is always advisable to name your variables in a consistent way, making debugging much easier.\n",
    "\n",
    "\n",
    "\n",
    "\n",
    "########################################\n",
    "\n",
    "print('Sum:', sum_ab)\n",
    "if difference_ab == 210.75:\n",
    "    print('difference_ab:', difference_ab)\n",
    "else:\n",
    "    print('That is not right, have another go')\n",
    "\n",
    "if product_ab == 3749.625:\n",
    "    print('product_ab:', product_ab)\n",
    "else:\n",
    "    print('That is not right, have another go')\n"
   ]
  },
  {
   "cell_type": "markdown",
   "metadata": {},
   "source": [
    "### Functions"
   ]
  },
  {
   "cell_type": "markdown",
   "metadata": {},
   "source": [
    "Python can be used to perform a wide range of tasks beyond simple arithmetic and variable handling.\n",
    "Functions are very useful when you want to repeat more complex calculations or operations.\n",
    "\n",
    "As an example, we could create a function that takes in two numbers as input and returns their difference.\n",
    "\n",
    "Look at the cell below which defines a function called `difference`. The function takes two arguments (a and b), subtracts them from each other, and returns the result."
   ]
  },
  {
   "cell_type": "code",
   "execution_count": null,
   "metadata": {},
   "outputs": [],
   "source": [
    "def difference(a, b):\n",
    "    \"\"\"This function takes two numbers as input and returns their difference.\"\"\"\n",
    "    return b - a\n",
    "\n",
    "print(difference(a,b))"
   ]
  },
  {
   "cell_type": "markdown",
   "metadata": {},
   "source": [
    "Notice how we define functions.\n",
    "<center>\n",
    "<img src=\"Resources/FunctionDefinition.png\" alt=\"Demonstration of using Python in the command line\" style=\"width: 1200px;\"/>\n",
    "</center>\n",
    "\n",
    "- First, we *define* the function name using `def` and the name we would like to use. \n",
    "- Second, we list the inputs that are going to be used by the function, in this case `a` and `b`.\n",
    "- Third, optionally, we can include a line of comments which inform the user what the function does. This are known as 'docstrings'.\n",
    "- Finally, we return the output, in this case `a-b`.\n",
    "\n",
    "For relatively simple functions you can `return` the output directly without needing intermediate operations.\n",
    "\n",
    "Let's look at a more complicated function. Manipulate the code to run the next cell."
   ]
  },
  {
   "cell_type": "code",
   "execution_count": null,
   "metadata": {},
   "outputs": [],
   "source": [
    "import numpy as np\n",
    "def find_nearest_match(array, target):\n",
    "    \"\"\"Find the index of the nearest match to `target` in `array`.\n",
    "    If no match is found, return -1.\"\"\"\n",
    "\n",
    "    # Find the absolute difference between each element and the target\n",
    "    diff = np.abs(array - target)\n",
    "    \n",
    "    # Find the index where the minimum difference is located\n",
    "    idx = np.argmin(diff)\n",
    "    \n",
    "    return idx\n",
    "\n",
    "# Example usage:\n",
    "arr = np.random.randint(1, 100, size=10)  # Generate a random array of integers\n",
    "print(\"Random Array:\", arr)\n",
    "\n",
    "\n",
    "########## PUT YOUR CODE HERE ##########\n",
    "\n",
    "target = \n",
    "idx = \n",
    "\n",
    "print(f\"The nearest match to {target} is {arr[idx]} at index {idx}\")\n",
    "\n",
    "########################################\n",
    "\n"
   ]
  },
  {
   "cell_type": "markdown",
   "metadata": {},
   "source": [
    "There are some interesting things to note in this example:\n",
    "- indentation\n",
    "- libraries\n",
    "- indexing\n",
    "- f-strings\n",
    "\n",
    "Before the end of the session we will look at indentation. We will cover libraries, indexing  and f-strings in a later session, but feel free to look online at what these things mean."
   ]
  },
  {
   "cell_type": "markdown",
   "metadata": {},
   "source": [
    "## Indentation (`for` loops, `if` conditionals)"
   ]
  },
  {
   "cell_type": "markdown",
   "metadata": {},
   "source": [
    "Python uses indentation to group portions of code together. This can be counter-intuitive initially, but does become clear after considering some example usage. You can quickly see what code is due to run as a group by looking at the indentation.\n",
    "\n",
    "We will look at the use of indentation when setting up `for` loops and `if` conditionals.\n",
    "\n",
    "You have seen the use of indentation above, when looking at function definitions. Fix the code in the next cell to enable it to run. You can indent groups of code by highlighting the relevant lines and pressing tab."
   ]
  },
  {
   "cell_type": "code",
   "execution_count": null,
   "metadata": {},
   "outputs": [],
   "source": [
    "########### FIX THE CODE IN THIS CELL ###############\n",
    "\n",
    "def double_then_add(a,b):\n",
    "two_a = 2*a\n",
    "return two_a+b\n",
    "\n",
    "print(double_then_add(10,12))\n",
    "\n",
    "######################################################"
   ]
  },
  {
   "cell_type": "markdown",
   "metadata": {},
   "source": [
    "### `for` loops\n",
    "\n",
    "When you want to run code iteratively over a range of values or a list, you can use a `for` loop. \n",
    "\n",
    "These loops should be used with care, often it is much quicker and simpler to **vectorise** your code, which fully utilises the processing power of modern devices.\n",
    "[You can read more about this here.](https://stackoverflow.com/questions/54028199/are-for-loops-in-pandas-really-bad-when-should-i-care)\n",
    "\n",
    "Let's look at an example `for` loop:\n"
   ]
  },
  {
   "cell_type": "code",
   "execution_count": null,
   "metadata": {},
   "outputs": [],
   "source": [
    "for i in range(5):\n",
    "    print(\"Hi. i=\",i)"
   ]
  },
  {
   "cell_type": "markdown",
   "metadata": {},
   "source": [
    "Notice how the print command ran 5 times? That is because it was indented below the `for` loop definition.\n",
    "\n",
    "Also, notice how this is a similar construction to the function definition, we have our special command `for` followed by `a_variable` in `some_iterable_variable` followed by a colon `:`.\n",
    "\n",
    "An iterable variable is one that contains multiple values to iterate through. This could be a list, or an array, or dictionary and more.\n",
    "\n",
    "You can see the effect of indentation clearly with this nested `for` loop."
   ]
  },
  {
   "cell_type": "code",
   "execution_count": null,
   "metadata": {},
   "outputs": [],
   "source": [
    "for i in range(3):\n",
    "    for j in range(3):\n",
    "        print(i, j)\n",
    "    \n",
    "    print(\"This statement is within the i-loop, but not the j-loop\")"
   ]
  },
  {
   "cell_type": "markdown",
   "metadata": {},
   "source": [
    "### `if` conditionals/statements\n",
    "Sometimes we want to assess whether a value meets a condition and then perform operations if that is true or false. `if` statements allow us to do just that.\n",
    "\n",
    "This special operation `if` must follow the same formatting as `for` loops and function `def`initions.\n",
    "\n",
    "Let's see this in action."
   ]
  },
  {
   "cell_type": "code",
   "execution_count": null,
   "metadata": {},
   "outputs": [],
   "source": [
    "a = 3\n",
    "\n",
    "for i in range(10):\n",
    "    if a==i:\n",
    "        print('3 equals 3!')\n",
    "    else:\n",
    "        print(f'{i} does not equal 3...')"
   ]
  },
  {
   "cell_type": "markdown",
   "metadata": {},
   "source": [
    "To compare values in python we can use a comparison operator. Here is a list of the available options.\n",
    "In Python, you often want to compare a value with another. For that, you use comparison operators.\n",
    "\n",
    "\n",
    "| Math sign     | Python sign   | Meaning                                                   |\n",
    "|--------------|----------------|--------------------------------------------------------       |\n",
    "| ==    | ``==``       | Equal to                                       |\n",
    "| >    | `>`    | Greater than                               |\n",
    "| <   | `<` | Less than                                    |\n",
    "| ≥    | `>`    | Greater than or equal to                             |\n",
    "| ≤   | `<` | Less than or equal to                                 |\n",
    "\n",
    "\n",
    "You can also chain conditions together using the following operations.\n",
    "| sign     | description                                                                      |\n",
    "|----------|----------------------------------------------------------------------------------|\n",
    "| `and`    | returns True if both statements are true                                         |\n",
    "| `or`     | return True if at least 1 statements is true                                     |\n",
    "| `not`    | reverse of the results; returns False if the statement is True                   |\n",
    "| `is`     | returns True if both variables are the same object                               |\n",
    "| `is not` | returns True if both variables are not the same object                           |\n",
    "| `in`     | returns True if a sequence with the specified value is present in the object     |\n",
    "| `not in` | returns True if a sequence with the specified value is not present in the object |\n",
    "\n",
    "You can use these operations to return either `True` or `False` `boolean` conditions.\n",
    "Look at what the following code blocks return.\n"
   ]
  },
  {
   "cell_type": "code",
   "execution_count": null,
   "metadata": {},
   "outputs": [],
   "source": [
    "num = 5\n",
    "print(num > 4 and num < 8)"
   ]
  },
  {
   "cell_type": "code",
   "execution_count": null,
   "metadata": {},
   "outputs": [],
   "source": [
    "rock_type = [\"sandstone\"]\n",
    "print(\"sand\" in rock_type)"
   ]
  },
  {
   "cell_type": "markdown",
   "metadata": {},
   "source": [
    "### Exercise A\n",
    "In the next cell I have defined a variable called `some_range` containing an array of numbers from 1 to 1000.\n",
    "Create three new arrays containing all the numbers in `some_range` that are exactly divisible by 3; exactly divisible by 13; and exactly divisible by **both** 3 and 13. \n",
    "\n",
    "Hint: this can be done using a `for` loop, by 'list comprehension', or using `numpy`. You can look up what these things are."
   ]
  },
  {
   "cell_type": "code",
   "execution_count": 27,
   "metadata": {},
   "outputs": [
    {
     "name": "stdout",
     "output_type": "stream",
     "text": [
      "[ 39  78 117 156 195 234 273 312 351 390 429 468 507 546 585 624 663 702\n",
      " 741 780 819 858 897 936 975]\n"
     ]
    }
   ],
   "source": [
    "import numpy as np\n",
    "some_range = np.arange(1,1000,1,dtype=np.int32)\n",
    "\n",
    "##### ENTER YOUR CODE HERE #####\n",
    "\n",
    "div_by_three = \n",
    "\n",
    "div_by_thirteen = \n",
    "\n",
    "div_by_threethirteen = \n",
    "\n",
    "#################################\n",
    "\n",
    "assert div_by_threethirteen[3]==156"
   ]
  },
  {
   "cell_type": "markdown",
   "metadata": {},
   "source": [
    "# Conclusions\n",
    "\n",
    "Well done, you've reached the end of the first python workshop, now its time to put your new knowledge to the test. \n",
    "\n",
    "This session has been quite heavy on content, which makes it useful for reference. However, the best way to learn is by doing...\n",
    "\n",
    "Have a go at the following exercise. Once you have done so, log onto the B4 moodle page for a quiz to test your knowledge and get access to the next session.\n",
    "\n",
    "## Exercise B\n",
    "I want you to code up a solver for the second moment of area of a symmetrical I-beam profile about its centroidal axis yy. You will need to utilise your knowledge from Structures 1 and create a python function.\n",
    "\n",
    "The function should be called `second_moment_yy_i_beam` and take four input variables, `tf`, `tw`, `h`, `w` (as shown in the figure below) and return a single float variable rounded to 4 significant figures in mm<sup>4</sup>.\n",
    "\n",
    "<center>\n",
    "<img src=\"Resources/I-beam-bg.png\" alt=\"Definition of I-beam terms\" style=\"width: 600px;\"/>\n",
    "</center>\n"
   ]
  },
  {
   "cell_type": "code",
   "execution_count": null,
   "metadata": {},
   "outputs": [],
   "source": [
    "############### PUT YOUR CODE HERE ################\n",
    "\n",
    "\n",
    "\n",
    "###################################################"
   ]
  },
  {
   "cell_type": "code",
   "execution_count": 8,
   "metadata": {},
   "outputs": [],
   "source": [
    "assert second_moment_yy_i_beam(h=600,w=476,tw=100,tf=140) == 7268000000.0\n",
    "# If this completes with no error, congrats, you're all done."
   ]
  },
  {
   "cell_type": "markdown",
   "metadata": {},
   "source": [
    "### Stretch Exercise\n",
    "If you have completed all tasks for today, try modifying your `second_moment_i_beam` function so it takes one optional variable, `r`, the radius of a fillet at the web/flange connection. If the optional radius is given, the calculation should change to account for this extra material."
   ]
  }
 ],
 "metadata": {
  "kernelspec": {
   "display_name": "Python 3",
   "language": "python",
   "name": "python3"
  },
  "language_info": {
   "codemirror_mode": {
    "name": "ipython",
    "version": 3
   },
   "file_extension": ".py",
   "mimetype": "text/x-python",
   "name": "python",
   "nbconvert_exporter": "python",
   "pygments_lexer": "ipython3",
   "version": "3.12.4"
  }
 },
 "nbformat": 4,
 "nbformat_minor": 2
}
