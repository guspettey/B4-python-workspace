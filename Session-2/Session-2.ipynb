{
 "cells": [
  {
   "cell_type": "markdown",
   "metadata": {},
   "source": [
    "<h1><center> B4 - Python for Civil Engineering </center></h1>\n",
    "\n",
    "<center>\n",
    "<img src=\"../Resources/Session-1/python-3-logo.png\" alt=\"Python Logo\" style=\"width: 600px;\"/>\n",
    "</center>\n",
    "\n",
    "<h2><center> Session 2 - Modules and Debugging </center></h2>"
   ]
  },
  {
   "cell_type": "markdown",
   "metadata": {},
   "source": [
    "In the last session, we looked at the fundamentals of the python language and syntax required to write very basic code.\n",
    "\n",
    "The great thing about python is that there is a large community of developers who have created packages and tools called **modules** which make complex tasks much simpler.\n",
    "\n",
    "For example if you want to create charts or graphs, instead of writing code to draw them yourself, you could use one of these modules.\n",
    "One such module is `matplotlib`, which we will be using throughout this workshop for plotting data.\n",
    "\n",
    "If you find yourself asking how to do something or something is not working quite right, its highly likely someone has encountered it before, so searching for information is a critical part of the coding process.\n",
    "\n",
    "In today's session, we will cover the use of modules, and how to find high quality solutions to coding problems.\n"
   ]
  },
  {
   "cell_type": "markdown",
   "metadata": {},
   "source": [
    "## Modules - Extending python's ability\n",
    "\n",
    "Python’s core functionality is impressive, but imagine needing to write every function from scratch – tedious, right? Thankfully, python has a vast ecosystem of modules, pre-written code packages that provide specialised functionalities.\n",
    "\n",
    "### Importing Modules:\n",
    "\n",
    "We use the `import` keyword to access modules. Let’s import the math module and use one of its functions:"
   ]
  },
  {
   "cell_type": "code",
   "execution_count": null,
   "metadata": {},
   "outputs": [],
   "source": [
    "import math\n",
    "\n",
    "print(math.sqrt(25)) # Output: 5.0"
   ]
  },
  {
   "cell_type": "markdown",
   "metadata": {},
   "source": [
    "See how we used the square root function? We have imported the entire `math` module with lots of functions, and we need to ask python to use a certain one, so we write `math.sqrt` for the square root function.\n",
    "\n",
    "Alternatively you can import specific functions from a module:"
   ]
  },
  {
   "cell_type": "code",
   "execution_count": null,
   "metadata": {},
   "outputs": [],
   "source": [
    "from math import sqrt\n",
    "\n",
    "print(sqrt(16)) # Output: 4.0"
   ]
  },
  {
   "cell_type": "markdown",
   "metadata": {},
   "source": [
    "Note the difference. We could access the square root function like any other basic python function e.g. `range`.\n",
    "\n",
    "It is good practice to only import the functions required for your use. Put it this way, would you carry around an entire toolbox-worth of tools if you only needed a single screwdriver?\n",
    "\n",
    "### Exploring modules\n",
    "You can find out about the standard python modules that can be imported by checking the documentation.\n",
    "Standard Library: Python comes with built-in modules like math, random, datetime. [You can find documentation for them here.](https://docs.python.org/3/library/)\n",
    "\n",
    "Third-party Modules: Thousands of external modules are available through the [Python Package Index (PyPI).](https://pypi.org/) You can install these on your own installation of python, but you do not need to add any for this workshop, as I have done that for you.\n",
    "\n",
    "Today we are going to consider two of the most popular modules used in data analysis: `numpy` (for numerical calculations) and `matplotlib` (for plotting)."
   ]
  },
  {
   "cell_type": "markdown",
   "metadata": {},
   "source": [
    "### Using `numpy`"
   ]
  },
  {
   "cell_type": "markdown",
   "metadata": {},
   "source": [
    "Numpy (i.e. Numerical Python) is probably the most widely used python module that exists today. \n",
    "So much so, that virtually every module in the scientific domain, from machine learning to image analysis relies upon numpy to work - so it is important to understand its use.\n",
    "\n",
    "Numpy's core functionality is handling calculations and operations on homogeneous numerical data (different to lists - which can be heterogeneous as we saw last session). For context, an excel spreadsheet may have a maximum size of 1048576 rows by 16384 columns. Numpy can carry out operations on several million rows and columns with great efficiency, these are known as '**array**' based operations.\n",
    "\n",
    "Arrays can be simple one-dimensional structures, two-dimensional table-like structures or even three-dimensional cube like structures.\n",
    "\n",
    "You can see an example of how I utilised a 2D and 3D arrays in this figure:\n",
    "\n",
    "<center>\n",
    "<img src=\"../Resources/Session-2/Virtualisation.gif\" alt=\"Demonstration of using numpy to reconstruct 3D particle geometry\" style=\"width: 600px;\"/>\n",
    "\n",
    "I am using numpy here to reconstruct the geometry of a sand particle in extremely high definition by taking a series of 2D images around the perimeter of the particle.\n",
    "Using a principle known as volume reconstruction, if I extrude/project all of my 2D images into the third dimension, the intersection of all the extrusion reveals the real particle geometry.\n",
    "</center>\n",
    "\n",
    "The code used to do all of this was very very lengthy indeed, but I think shows what can be achieved if you break larger problems down into more manageable chunks.\n",
    "<center>\n",
    "<img src=\"../Resources/Session-2/VirtualizationCode.gif\" alt=\"Scrolling through the code used in my research\" style=\"width: 600px;\"/>\n",
    "</center>\n",
    "\n",
    "\n",
    "**Let's look at some code to create some example arrays.** Run the cells below and look at the outputs."
   ]
  },
  {
   "cell_type": "code",
   "execution_count": null,
   "metadata": {},
   "outputs": [],
   "source": []
  },
  {
   "cell_type": "markdown",
   "metadata": {},
   "source": [
    "#### Indexing\n",
    "Indexing allows you to access specific elements within a sequence, like lists, tuples, or strings. In NumPy, indexing extends to multi-dimensional arrays (ndarrays), enabling powerful data manipulation.\n",
    "\n",
    "<center>\n",
    "<img src=\"../Resources/Session-2/ArrayVisualisation.png\" alt=\"Visualisation of \" style=\"width: 1000px;\"/>\n",
    "\n",
    "(source: <b><a href=\"https://physics.cornell.edu\">Physics Dept, Cornell Uni</a></b>)\n",
    "</center>\n"
   ]
  },
  {
   "cell_type": "markdown",
   "metadata": {},
   "source": [
    "Imagine you have a NumPy array as a neatly organized grid of numbers:\n",
    "\n",
    "Indexing lets you pinpoint specific numbers within this grid. Think of it like coordinates on a map.\n",
    "PUT EASY EXPLANATION HERE\n",
    "\n",
    "Zero-based indexing: Elements are accessed starting from index 0 for the first element, 1 for the second, and so on.\n",
    "Negative indexing: Access elements from the end of a sequence using negative indices. -1 represents the last element, -2 the second to last, etc.\n",
    "Slicing: Extract a subsequence using [start:stop:step]."
   ]
  },
  {
   "cell_type": "code",
   "execution_count": 14,
   "metadata": {},
   "outputs": [
    {
     "name": "stdout",
     "output_type": "stream",
     "text": [
      "10\n",
      "50\n",
      "[20 30 40]\n"
     ]
    }
   ],
   "source": [
    "import numpy as np\n",
    "\n",
    "my_array = np.array([10, 20, 30, 40, 50])\n",
    "print(my_array[0])  # Output: 10 (first element)\n",
    "print(my_array[-1]) # Output: 50 (last element)\n",
    "print(my_array[1:4]) # Output: [20, 30, 40] (slice from index 1 to 3)\n"
   ]
  },
  {
   "cell_type": "markdown",
   "metadata": {},
   "source": [
    "Multi-dimensional arrays: NumPy uses tuples of indices to access elements. For a 2D array arr:\n",
    "\n",
    "arr[row_index, column_index] accesses the element at the specified row and column.\n",
    "Slicing: Slicing works similarly in multiple dimensions. You can slice rows, columns, or even entire sub-arrays using ranges within the index tuple.\n",
    "\n",
    "arr[start_row:end_row, start_col:end_col] extracts a sub-array."
   ]
  },
  {
   "cell_type": "code",
   "execution_count": 15,
   "metadata": {},
   "outputs": [
    {
     "name": "stdout",
     "output_type": "stream",
     "text": [
      "2\n",
      "[3 6 9]\n",
      "[[4 5]\n",
      " [7 8]]\n"
     ]
    }
   ],
   "source": [
    "import numpy as np\n",
    "\n",
    "arr = np.array([[1, 2, 3], [4, 5, 6], [7, 8, 9]])\n",
    "print(arr[0, 1])  # Output: 2 (element at row 0, column 1)\n",
    "print(arr[:, 2]) # Output: [3 6 9] (all elements in the last column)\n",
    "print(arr[1:3, 0:2]) # Output: [[4 5] [7 8]] (sub-array from rows 1 to 2 and columns 0 to 1)\n"
   ]
  },
  {
   "cell_type": "markdown",
   "metadata": {},
   "source": [
    "Boolean indexing: Select elements based on a boolean condition.\n",
    "\n",
    "arr[arr > 5] selects all elements greater than 5.\n",
    "\n",
    "Note that you can index an array with multiple values, this is really useful!"
   ]
  },
  {
   "cell_type": "code",
   "execution_count": 16,
   "metadata": {},
   "outputs": [
    {
     "name": "stdout",
     "output_type": "stream",
     "text": [
      "[5 8]\n"
     ]
    }
   ],
   "source": [
    "import numpy as np\n",
    "\n",
    "arr = np.array([1, 5, 2, 8, 3])\n",
    "\n",
    "print(arr[arr > 3])  # Output: [5 8] (elements greater than 3)"
   ]
  },
  {
   "cell_type": "markdown",
   "metadata": {},
   "source": [
    "#### Exercise\n",
    "\n",
    "Try and fix the code in the next cell to return....\n",
    "Use the numpy documentation"
   ]
  },
  {
   "cell_type": "code",
   "execution_count": null,
   "metadata": {},
   "outputs": [],
   "source": []
  },
  {
   "cell_type": "markdown",
   "metadata": {},
   "source": [
    "#### Exercise\n",
    "\n",
    "Create a function that "
   ]
  },
  {
   "cell_type": "code",
   "execution_count": null,
   "metadata": {},
   "outputs": [],
   "source": []
  },
  {
   "cell_type": "markdown",
   "metadata": {},
   "source": [
    "### Using `matplotlib`"
   ]
  },
  {
   "cell_type": "markdown",
   "metadata": {},
   "source": [
    "edit the code in the next cell to produce a figure like this\n",
    "\n",
    "You should refer to the [matplotlib documentation](https://matplotlib.org/stable/api/index.html) to investigate the functions I have given, and construct them correctly.\n",
    "\n",
    "hint, look at last weeks session in order to produce the axes formatted in multiples of pi"
   ]
  },
  {
   "cell_type": "code",
   "execution_count": null,
   "metadata": {},
   "outputs": [],
   "source": [
    "import matplotlib.pyplot as plt\n",
    "import numpy as np\n",
    "\n",
    "# Define parameters for the spiral\n",
    "a = 0.1  # Controls the spacing between turns\n",
    "b = 0.2  # Controls the rate of growth\n",
    "\n",
    "# Generate angle values from 0 to 6π radians\n",
    "theta = np.linspace(0, 6 * np.pi, 500)\n",
    "\n",
    "# Calculate x and y coordinates using polar equations\n",
    "x = a * theta * np.cos(theta)\n",
    "y = a * theta * np.sin(theta) + b * theta\n",
    "\n",
    "######## Edit the code below to produce the plot ########\n",
    "\n",
    "_,_ = plt.subplots(dpi=, figsize=)\n",
    "\n",
    "plot(       )\n",
    "\n",
    "\n",
    "grid(     )\n",
    "\n",
    "#########################################################"
   ]
  },
  {
   "cell_type": "markdown",
   "metadata": {},
   "source": [
    "We will look at further examples and more complex usage of `matplotlib` in the final session next week. Producing professional and clear figures is a crucial part of an engineering career (or any career for that matter), so this is a key skill to practice."
   ]
  },
  {
   "cell_type": "markdown",
   "metadata": {},
   "source": [
    "## Finding extra support - stackoverflow\n",
    "\n",
    "My general approach to finding extra functionality in third-party modules is to search online for a specific task, and investigate other python user's solutions to coding problems.\n",
    "\n",
    "Stackoverflow is a website dedicated to question and answer of coding problems, and is a superb resource. Real users will give up-to-date solutions to certain tasks, and some of the time even demonstrate the performance gain from their approach by comparing the computing time required. This open source (meaning all can contribute) method to problem solving is responsible for many advancements in computing capability, and should not be underestimated.\n",
    "\n",
    "Let's look at a problem presented by [this user on stackoverflow](https://stackoverflow.com/questions/20618804/how-to-smooth-a-curve-for-a-dataset). "
   ]
  },
  {
   "cell_type": "code",
   "execution_count": 9,
   "metadata": {},
   "outputs": [
    {
     "data": {
      "text/plain": [
       "<matplotlib.legend.Legend at 0x111731100>"
      ]
     },
     "execution_count": 9,
     "metadata": {},
     "output_type": "execute_result"
    },
    {
     "data": {
      "image/png": "[encoded data removed]",
      "text/plain": [
       "<Figure size 640x480 with 1 Axes>"
      ]
     },
     "metadata": {},
     "output_type": "display_data"
    }
   ],
   "source": [
    "import matplotlib.pyplot as plt     # importing the plotting module pyplot\n",
    "import numpy as np                  #importing the numerical python package numpy \n",
    "\n",
    "# Generate some random data\n",
    "np.random.seed(42)  # for reproducibility, this allows us to generate the same random data\n",
    "x = np.linspace(0, 2*np.pi,100)  # this generates an array of evenly spaced data, from 0 to 10, with 50 evenly spaced values\n",
    "y = np.sin(x) + np.random.normal(0, 0.2, 100) # this creates a sin curve at each one of the x values given, and applies some noise\n",
    "\n",
    "# Create a simple line plot\n",
    "fig, ax = plt.subplots() # this creates a blank figure with a single axes called `ax`  that we can plot data to \n",
    "ax.scatter(x, y, label='Sine Wave with Noise')  # this plots some scatter data to the `ax` axes\n",
    "\n",
    "ax.set_title('Sample sine function with noise')\n",
    "ax.legend()"
   ]
  },
  {
   "cell_type": "markdown",
   "metadata": {},
   "source": [
    "Imagine you had this data above and you wanted to smooth it out, so you could plot it as a single smooth curve.\n",
    "\n",
    "Look at the [stackoverflow link](https://stackoverflow.com/questions/20618804/how-to-smooth-a-curve-for-a-dataset) and produce an identical plot as above, but this time with the addition of a smoothed line **plot** using a `savitzky_golay` filter applied.\n",
    "\n",
    "You can search online for more information about the functions you are using."
   ]
  },
  {
   "cell_type": "code",
   "execution_count": null,
   "metadata": {},
   "outputs": [],
   "source": [
    "import matplotlib.pyplot as plt     # importing the plotting module pyplot\n",
    "import numpy as np                  #importing the numerical python package numpy \n",
    "############ Import the relevant module ###############\n",
    "\n",
    "\n",
    "\n",
    "################################################################\n",
    "\n",
    "\n",
    "# Generate some random data\n",
    "np.random.seed(42)  # for reproducibility, this allows us to generate the same random data\n",
    "x = np.linspace(0, 2*np.pi,100)  # this generates an array of evenly spaced data, from 0 to 10, with 50 evenly spaced values\n",
    "y = np.sin(x) + np.random.normal(0, 0.2, 100) # this creates a sin curve at each one of the x values given, and applies some noise\n",
    "\n",
    "############ Create the smoothed y data below ###############\n",
    "\n",
    "\n",
    "\n",
    "################################################################\n",
    "\n",
    "\n",
    "# Create a simple line plot\n",
    "fig, ax = plt.subplots() # this creates a blank figure with a single axes called `ax`  that we can plot data to \n",
    "ax.scatter(x, y, label='Sine Wave with Noise')  # this plots some scatter data to the `ax` axes\n",
    "\n",
    "############ Add a line plot of the smoothed data below  ###############\n",
    "\n",
    "\n",
    "\n",
    "########################################################################\n",
    "\n",
    "ax.set_title('Sample sine function with noise')\n",
    "ax.legend()"
   ]
  },
  {
   "cell_type": "markdown",
   "metadata": {},
   "source": [
    "## Finding extra support - ChatGPT etc...\n"
   ]
  },
  {
   "cell_type": "markdown",
   "metadata": {},
   "source": []
  }
 ],
 "metadata": {
  "kernelspec": {
   "display_name": "Python 3",
   "language": "python",
   "name": "python3"
  },
  "language_info": {
   "codemirror_mode": {
    "name": "ipython",
    "version": 3
   },
   "file_extension": ".py",
   "mimetype": "text/x-python",
   "name": "python",
   "nbconvert_exporter": "python",
   "pygments_lexer": "ipython3",
   "version": "3.12.4"
  }
 },
 "nbformat": 4,
 "nbformat_minor": 2
}
