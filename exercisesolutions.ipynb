{
 "cells": [
  {
   "cell_type": "code",
   "execution_count": null,
   "metadata": {},
   "outputs": [],
   "source": [
    "def second_moment_i_beam(tf,tw,h,w):\n",
    "    top_flange = (1/12)*w*tf**3+(w*tf)*((h/2)-(tf/2))**2\n",
    "    bottom_flange = (1/12)*w*tf**3+(w*tf)*((h/2)-(tf/2))**2\n",
    "    web = (1/12)*tw*(h-2*tf)\n",
    "    return float(f'{top_flange+bottom_flange+web:.{4}g}')\n",
    "\n",
    "print(second_moment_i_beam(h=600,w=476,tw=100,tf=140))"
   ]
  }
 ],
 "metadata": {
  "language_info": {
   "name": "python"
  }
 },
 "nbformat": 4,
 "nbformat_minor": 2
}
